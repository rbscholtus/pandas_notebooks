{
 "cells": [
  {
   "cell_type": "markdown",
   "metadata": {},
   "source": [
    "# Data Analysis with Python and Pandas Tutorial\n",
    "# Part 3 - Merging and Joining data\n",
    "\n",
    "This notebook is partially based on:\n",
    "\n",
    "https://jakevdp.github.io/PythonDataScienceHandbook/03.07-merge-and-join.html"
   ]
  },
  {
   "cell_type": "markdown",
   "metadata": {},
   "source": [
    "## Tutorial Objectives\n",
    "\n",
    "In this tutorial, you will learn:\n",
    "\n",
    "  * How to perform merge operations on dataframes, similar to SQL INNER JOINs\n",
    "  * How to perform merge operations with inner, left, right, and (full) outer algorithms\n",
    "  * How to identify rows with NaN value(s)"
   ]
  },
  {
   "cell_type": "code",
   "execution_count": null,
   "metadata": {},
   "outputs": [],
   "source": [
    "# import the Pandas library\n",
    "import pandas as pd"
   ]
  },
  {
   "cell_type": "code",
   "execution_count": null,
   "metadata": {},
   "outputs": [],
   "source": [
    "# First, let's define some simple employee data\n",
    "\n",
    "empl_df1 = pd.DataFrame({\n",
    "    'employee': ['Lisa', 'Bob', 'Jake', 'Sue'],\n",
    "    'hire_date': [2004, 2008, 2012, 2014]\n",
    "})\n",
    "\n",
    "empl_df2 = pd.DataFrame({\n",
    "    'employee': ['Bob', 'Jake', 'Lisa', 'Sue'],\n",
    "    'group': ['Accounting', 'Engineering', 'Engineering', 'HR']\n",
    "})\n",
    "\n",
    "sal_df = pd.DataFrame({\n",
    "    'name': ['Bob', 'Jake', 'Lisa', 'Sue'],\n",
    "    'salary': [70000, 80000, 120000, 90000]\n",
    "})\n",
    "\n",
    "bonus_df = pd.DataFrame({\n",
    "    'name': ['Sue', 'Timmy', 'Lisa', 'Bob'],\n",
    "    'bonus': [500, 550, 1000, 300]\n",
    "})\n",
    "\n",
    "boss_df = pd.DataFrame({\n",
    "    'group': ['Accounting', 'Engineering', 'HR'],\n",
    "    'supervisor': ['Carly', 'Guido', 'Steve']}\n",
    ")\n",
    "\n",
    "skills_df = pd.DataFrame({\n",
    "    'group': ['Accounting', 'Accounting', 'Engineering', 'Engineering', 'HR', 'HR'],\n",
    "    'skills': ['math', 'spreadsheets', 'coding', 'linux', 'spreadsheets', 'organization']\n",
    "})"
   ]
  },
  {
   "cell_type": "code",
   "execution_count": null,
   "metadata": {},
   "outputs": [],
   "source": [
    "# Review the data frames\n",
    "empl_df1"
   ]
  },
  {
   "cell_type": "code",
   "execution_count": null,
   "metadata": {
    "scrolled": true
   },
   "outputs": [],
   "source": [
    "empl_df2"
   ]
  },
  {
   "cell_type": "code",
   "execution_count": null,
   "metadata": {},
   "outputs": [],
   "source": [
    "# Merge the data frames into a single frame\n",
    "# Pandas finds the common column automatically\n",
    "df = pd.merge(empl_df1, empl_df2)\n",
    "df"
   ]
  },
  {
   "cell_type": "code",
   "execution_count": null,
   "metadata": {},
   "outputs": [],
   "source": [
    "# review the bosses dataframe\n",
    "boss_df"
   ]
  },
  {
   "cell_type": "code",
   "execution_count": null,
   "metadata": {},
   "outputs": [],
   "source": [
    "# Merge employees with their group (many to one)\n",
    "# The common column is \"group\", which we can explicitly specify\n",
    "df = pd.merge(df, boss_df, on='group')\n",
    "df"
   ]
  },
  {
   "cell_type": "code",
   "execution_count": null,
   "metadata": {},
   "outputs": [],
   "source": [
    "# review skills data\n",
    "skills_df"
   ]
  },
  {
   "cell_type": "code",
   "execution_count": null,
   "metadata": {},
   "outputs": [],
   "source": [
    "# merge employee/group data with skills data (many to many)\n",
    "# column to merge on is optional, but specify it anyway\n",
    "pd.merge(empl_df2, skills_df, on='group')"
   ]
  },
  {
   "cell_type": "code",
   "execution_count": null,
   "metadata": {},
   "outputs": [],
   "source": [
    "# review salary data\n",
    "sal_df"
   ]
  },
  {
   "cell_type": "code",
   "execution_count": null,
   "metadata": {
    "scrolled": false
   },
   "outputs": [],
   "source": [
    "# Merge employee data with salary\n",
    "# You'll have to identify the columns to merge on yourself\n",
    "df = pd.merge(df, sal_df, left_on='employee', right_on='name')\n",
    "df"
   ]
  },
  {
   "cell_type": "code",
   "execution_count": null,
   "metadata": {},
   "outputs": [],
   "source": [
    "# drop the duplicated column \"name\"\n",
    "df.drop(columns='name', inplace=True)\n",
    "df"
   ]
  },
  {
   "cell_type": "code",
   "execution_count": null,
   "metadata": {},
   "outputs": [],
   "source": [
    "# review end-of-year bonus data\n",
    "bonus_df"
   ]
  },
  {
   "cell_type": "code",
   "execution_count": null,
   "metadata": {},
   "outputs": [],
   "source": [
    "# merge employee data with bonus data (disjoint sets)\n",
    "# the default merge method is \"inner join\"\n",
    "pd.merge(df, bonus_df, left_on='employee', right_on='name')"
   ]
  },
  {
   "cell_type": "code",
   "execution_count": null,
   "metadata": {},
   "outputs": [],
   "source": [
    "# left join to include every row on the left\n",
    "pd.merge(df, bonus_df, left_on='employee', right_on='name', how='left')"
   ]
  },
  {
   "cell_type": "code",
   "execution_count": null,
   "metadata": {},
   "outputs": [],
   "source": [
    "# right join to include every row on the right\n",
    "pd.merge(df, bonus_df, left_on='employee', right_on='name', how='right')"
   ]
  },
  {
   "cell_type": "code",
   "execution_count": null,
   "metadata": {},
   "outputs": [],
   "source": [
    "# outer join to include every row\n",
    "all_df = pd.merge(df, bonus_df, left_on='employee', right_on='name', how='outer')\n",
    "all_df"
   ]
  },
  {
   "cell_type": "code",
   "execution_count": null,
   "metadata": {},
   "outputs": [],
   "source": [
    "all_df.columns"
   ]
  },
  {
   "cell_type": "code",
   "execution_count": null,
   "metadata": {},
   "outputs": [],
   "source": [
    "# find rows with NaN\n",
    "na_rows = all_df.isna().any(axis='columns')"
   ]
  },
  {
   "cell_type": "code",
   "execution_count": null,
   "metadata": {},
   "outputs": [],
   "source": [
    "# output those rows\n",
    "all_df[na_rows]"
   ]
  },
  {
   "cell_type": "markdown",
   "metadata": {},
   "source": [
    "## Exercise"
   ]
  },
  {
   "cell_type": "markdown",
   "metadata": {},
   "source": [
    "Go ahead and load the some Vietnam weather data, do basic cleanups of columns. The primary objective of the exercise is to merge the two datasets so that temperature and humidity are combined.\n",
    "\n",
    "The dataset is available at:\n",
    "\n",
    "https://1drv.ms/u/s!AgtH78k0_cuvglx5ww3BMV9GpIm1\n",
    "\n",
    "Discuss your solutions with the person next to you!"
   ]
  }
 ],
 "metadata": {
  "kernelspec": {
   "display_name": "Python 3",
   "language": "python",
   "name": "python3"
  },
  "language_info": {
   "codemirror_mode": {
    "name": "ipython",
    "version": 3
   },
   "file_extension": ".py",
   "mimetype": "text/x-python",
   "name": "python",
   "nbconvert_exporter": "python",
   "pygments_lexer": "ipython3",
   "version": "3.7.3"
  }
 },
 "nbformat": 4,
 "nbformat_minor": 2
}
