{
 "cells": [
  {
   "cell_type": "markdown",
   "metadata": {},
   "source": [
    "# Data Analysis with Python and Pandas Tutorial\n",
    "# Part 4 - Pivot tables"
   ]
  },
  {
   "cell_type": "markdown",
   "metadata": {},
   "source": [
    "## Tutorial Objectives\n",
    "\n",
    "In this tutorial, you will learn:\n",
    "\n",
    "  * How to create various pivot tables to solve coplex analytical problems\n",
    "\n",
    "More information about pivot tables is available here:\n",
    "\n",
    "https://www.dataquest.io/blog/pandas-pivot-table/"
   ]
  },
  {
   "cell_type": "code",
   "execution_count": null,
   "metadata": {},
   "outputs": [],
   "source": [
    "# import the Pandas, NumPy, and Matplotlib libraries\n",
    "import pandas as pd\n",
    "import numpy as np\n",
    "import matplotlib as plt"
   ]
  },
  {
   "cell_type": "code",
   "execution_count": null,
   "metadata": {},
   "outputs": [],
   "source": [
    "# read the data set from a URL\n",
    "url = 'https://s3.amazonaws.com/dq-content/blog/pivot_table/data.csv'\n",
    "df = pd.read_csv(url, index_col=0)"
   ]
  },
  {
   "cell_type": "code",
   "execution_count": null,
   "metadata": {},
   "outputs": [],
   "source": [
    "# output the first few rows of the data frame\n",
    "df.head()"
   ]
  },
  {
   "cell_type": "code",
   "execution_count": null,
   "metadata": {},
   "outputs": [],
   "source": [
    "# output detailed information\n",
    "df.info()"
   ]
  },
  {
   "cell_type": "code",
   "execution_count": null,
   "metadata": {},
   "outputs": [],
   "source": [
    "# output the values in the Year column\n",
    "df.Year.value_counts()"
   ]
  },
  {
   "cell_type": "code",
   "execution_count": null,
   "metadata": {},
   "outputs": [],
   "source": [
    "# convert the Year, Country, and Region columns to categorical columns\n",
    "df.Year = df.Year.astype('category')\n",
    "df.Country = df.Country.astype('category')\n",
    "df.Region = df.Region.astype('category')"
   ]
  },
  {
   "cell_type": "markdown",
   "metadata": {},
   "source": [
    "## The happiest countries in the world"
   ]
  },
  {
   "cell_type": "code",
   "execution_count": null,
   "metadata": {},
   "outputs": [],
   "source": [
    "# create a pivot table with countries in the rows (index), years in the columns, and Happiness in the values\n",
    "# add totals (margins)\n",
    "# sort the resulting data frame in descending order by total happiness\n",
    "df1 = pd.pivot_table(df, index='Country', columns='Year', values='Happiness Score', margins=True)\n",
    "df1.sort_values(by='All', ascending=False, inplace=True)"
   ]
  },
  {
   "cell_type": "code",
   "execution_count": null,
   "metadata": {},
   "outputs": [],
   "source": [
    "# output the happiest countries\n",
    "df1.head()"
   ]
  },
  {
   "cell_type": "code",
   "execution_count": null,
   "metadata": {
    "scrolled": true
   },
   "outputs": [],
   "source": [
    "# output the least happy countries\n",
    "df1.tail()"
   ]
  },
  {
   "cell_type": "code",
   "execution_count": null,
   "metadata": {},
   "outputs": [],
   "source": [
    "# location total happiness in Vietnam\n",
    "df1.loc['Vietnam', 'All']"
   ]
  },
  {
   "cell_type": "markdown",
   "metadata": {},
   "source": [
    "## The happiest regions in the world"
   ]
  },
  {
   "cell_type": "code",
   "execution_count": null,
   "metadata": {},
   "outputs": [],
   "source": [
    "# create a pivot table with regions in the rows, year in the columns, happiness in the value, including total\n",
    "# sort by the total in descending order\n",
    "df2 = pd.pivot_table(df, index='Region', columns='Year', values='Happiness Score', margins=True)\n",
    "df2.sort_values(by='All', ascending=False, inplace=True)"
   ]
  },
  {
   "cell_type": "code",
   "execution_count": null,
   "metadata": {},
   "outputs": [],
   "source": [
    "# output the happiest few regions\n",
    "df2.head()"
   ]
  },
  {
   "cell_type": "code",
   "execution_count": null,
   "metadata": {
    "scrolled": true
   },
   "outputs": [],
   "source": [
    "# output the least happy regions\n",
    "df2.tail()"
   ]
  },
  {
   "cell_type": "markdown",
   "metadata": {},
   "source": [
    "## Is happiness affected by region?"
   ]
  },
  {
   "cell_type": "code",
   "execution_count": null,
   "metadata": {},
   "outputs": [],
   "source": [
    "# prepare a pivot table as the previous one, without total\n",
    "# sort by 2017 in descending order\n",
    "df3 = pd.pivot_table(df, index='Region', columns='Year', values='Happiness Score')\n",
    "df3.sort_values(by=2017, ascending=False, inplace=True)\n",
    "df3"
   ]
  },
  {
   "cell_type": "code",
   "execution_count": null,
   "metadata": {
    "scrolled": true
   },
   "outputs": [],
   "source": [
    "# plot the pivot table as a bar chart\n",
    "df3.plot(kind='bar', figsize=(10,4))"
   ]
  },
  {
   "attachments": {},
   "cell_type": "markdown",
   "metadata": {},
   "source": [
    "## Exercise"
   ]
  },
  {
   "cell_type": "markdown",
   "metadata": {},
   "source": [
    "Go ahead and load the titanic dataset, do basic cleanups of columns, and then ask research questions such as:\n",
    "  * Which passenger class had the best chance of survival?\n",
    "  * What was the influence of gender on survival rates?\n",
    "  * Which age groups had the best chance to survive?\n",
    "\n",
    "The dataset is available at:\n",
    "https://www.kaggle.com/c/titanic/data\n",
    "\n",
    "And a detailed description is available on Kaggle:\n",
    "https://1drv.ms/u/s!AgtH78k0_cuvglrqiiwiOUvCS2ZJ\n",
    "\n",
    "To answer the questions, you need to create relevant tables.\n",
    "\n",
    "Discuss your solutions with the person next to you!"
   ]
  }
 ],
 "metadata": {
  "kernelspec": {
   "display_name": "Python 3",
   "language": "python",
   "name": "python3"
  },
  "language_info": {
   "codemirror_mode": {
    "name": "ipython",
    "version": 3
   },
   "file_extension": ".py",
   "mimetype": "text/x-python",
   "name": "python",
   "nbconvert_exporter": "python",
   "pygments_lexer": "ipython3",
   "version": "3.7.3"
  }
 },
 "nbformat": 4,
 "nbformat_minor": 2
}
