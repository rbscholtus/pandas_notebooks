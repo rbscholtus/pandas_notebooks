{
 "cells": [
  {
   "cell_type": "markdown",
   "metadata": {},
   "source": [
    "# Data Analysis with Python and Pandas Tutorial\n",
    "# Part 2 - Selecting, Filtering and Aggregating data"
   ]
  },
  {
   "cell_type": "markdown",
   "metadata": {},
   "source": [
    "## Tutorial Objectives\n",
    "\n",
    "In this tutorial, you will learn:\n",
    "\n",
    "  * How to explore of a large dataset using shape, columns, detailed info, identify categorical data, and exploring numerical columns distribution\n",
    "  * How to do basic clean up including renaming columns, converting relevant columns to categorical data, and dropping irrelevant columns\n",
    "  * Locate specific rows and cells using iloc and loc\n",
    "  * Find the largest and smallest values in a row using nlargest and nsmallest\n",
    "  * Select specific columns\n",
    "  * Filter rows using various criteria\n",
    "  * Aggregating data using mena. min, max, and sum to analyse data\n",
    "  * Plot time-based series"
   ]
  },
  {
   "cell_type": "markdown",
   "metadata": {},
   "source": [
    "## Loading the dataset"
   ]
  },
  {
   "cell_type": "code",
   "execution_count": null,
   "metadata": {},
   "outputs": [],
   "source": [
    "# import the Pandas library\n",
    "import pandas as pd"
   ]
  },
  {
   "cell_type": "code",
   "execution_count": null,
   "metadata": {},
   "outputs": [],
   "source": [
    "# read the dataset avocado.csv, available at https://www.kaggle.com/neuromusic/avocado-prices/download\n",
    "df = pd.read_csv('avocado.csv', index_col=0)\n",
    "df"
   ]
  },
  {
   "cell_type": "markdown",
   "metadata": {},
   "source": [
    "## Exploring the dataset"
   ]
  },
  {
   "cell_type": "code",
   "execution_count": null,
   "metadata": {},
   "outputs": [],
   "source": [
    "# output the dataframe's shape\n",
    "df.shape"
   ]
  },
  {
   "cell_type": "code",
   "execution_count": null,
   "metadata": {},
   "outputs": [],
   "source": [
    "# output the first few rows\n",
    "df.head()"
   ]
  },
  {
   "cell_type": "code",
   "execution_count": null,
   "metadata": {},
   "outputs": [],
   "source": [
    "# output the list of columns\n",
    "df.columns"
   ]
  },
  {
   "cell_type": "code",
   "execution_count": null,
   "metadata": {
    "scrolled": true
   },
   "outputs": [],
   "source": [
    "# or, output detailed dataframe info\n",
    "df.info()"
   ]
  },
  {
   "cell_type": "code",
   "execution_count": null,
   "metadata": {},
   "outputs": [],
   "source": [
    "# rename some columns to not have spaces\n",
    "col_mapping = {\n",
    "    'Total Volume': 'TotalVolume',\n",
    "    'Total Bags': 'TotalBags',\n",
    "    'Small Bags': 'SmallBags',\n",
    "    'Large Bags': 'LargeBags',\n",
    "    'XLarge Bags': 'XLargeBags'\n",
    "}\n",
    "df.rename(columns=col_mapping, inplace=True)"
   ]
  },
  {
   "cell_type": "code",
   "execution_count": null,
   "metadata": {},
   "outputs": [],
   "source": [
    "# drop some columns\n",
    "drop_cols = ['4046', '4225', '4770', 'SmallBags', 'LargeBags', 'XLargeBags']\n",
    "\n",
    "df.drop(columns=drop_cols, inplace=True)"
   ]
  },
  {
   "cell_type": "code",
   "execution_count": null,
   "metadata": {},
   "outputs": [],
   "source": [
    "# convert column \"Date\" to datetime64\n",
    "df.Date = df.Date.astype('datetime64')"
   ]
  },
  {
   "cell_type": "code",
   "execution_count": null,
   "metadata": {},
   "outputs": [],
   "source": [
    "# output unique values in Series \"type\"\n",
    "df.type.value_counts()"
   ]
  },
  {
   "cell_type": "code",
   "execution_count": null,
   "metadata": {},
   "outputs": [],
   "source": [
    "# convert type to categorical\n",
    "df.type = df.type.astype('category')"
   ]
  },
  {
   "cell_type": "code",
   "execution_count": null,
   "metadata": {},
   "outputs": [],
   "source": [
    "# output unique values in Series \"year\"\n",
    "df.year.value_counts()"
   ]
  },
  {
   "cell_type": "code",
   "execution_count": null,
   "metadata": {},
   "outputs": [],
   "source": [
    "# convert year to categorical\n",
    "df.year = df.year.astype('category')"
   ]
  },
  {
   "cell_type": "code",
   "execution_count": null,
   "metadata": {},
   "outputs": [],
   "source": [
    "# output the (number of) regions\n",
    "len(df.region.unique())"
   ]
  },
  {
   "cell_type": "code",
   "execution_count": null,
   "metadata": {},
   "outputs": [],
   "source": [
    "# output unique values in Series \"region\" (notice \"TotalUS\")\n",
    "df.region.unique()"
   ]
  },
  {
   "cell_type": "code",
   "execution_count": null,
   "metadata": {},
   "outputs": [],
   "source": [
    "# drop all rows with region TotalUS\n",
    "# this should be done *before* converting the column to category\n",
    "df = df[df.region != 'TotalUS']"
   ]
  },
  {
   "cell_type": "code",
   "execution_count": null,
   "metadata": {},
   "outputs": [],
   "source": [
    "# convert some columns to categorical Series\n",
    "df.region = df.region.astype('category')"
   ]
  },
  {
   "cell_type": "code",
   "execution_count": null,
   "metadata": {},
   "outputs": [],
   "source": [
    "# review the cleaned up columns (notice the corrected column names, types, and lowered memory usage)\n",
    "df.info()"
   ]
  },
  {
   "cell_type": "code",
   "execution_count": null,
   "metadata": {},
   "outputs": [],
   "source": [
    "# review the cleaned up dataset\n",
    "df.head()"
   ]
  },
  {
   "cell_type": "code",
   "execution_count": null,
   "metadata": {},
   "outputs": [],
   "source": [
    "# output basic statistics (numeric series)\n",
    "df.describe()"
   ]
  },
  {
   "cell_type": "code",
   "execution_count": null,
   "metadata": {},
   "outputs": [],
   "source": [
    "# plot a histogram of the average sale price\n",
    "df.AveragePrice.plot(kind='hist', figsize=(8,4), title='Avocado Prices (USD)')"
   ]
  },
  {
   "cell_type": "markdown",
   "metadata": {},
   "source": [
    "## Selecting Data"
   ]
  },
  {
   "cell_type": "code",
   "execution_count": null,
   "metadata": {},
   "outputs": [],
   "source": [
    "# output the head again\n",
    "df.head()"
   ]
  },
  {
   "cell_type": "code",
   "execution_count": null,
   "metadata": {},
   "outputs": [],
   "source": [
    "# locate a specific row by index (e.g. row index 3)\n",
    "df.iloc[3]"
   ]
  },
  {
   "cell_type": "code",
   "execution_count": null,
   "metadata": {},
   "outputs": [],
   "source": [
    "# locate a specific value by index (e.g. row 3, column TotalVolume which is column index 2)\n",
    "df.iloc[3, 2]"
   ]
  },
  {
   "cell_type": "code",
   "execution_count": null,
   "metadata": {},
   "outputs": [],
   "source": [
    "# locate a specific value by name (row 3, column TotalVolume)\n",
    "df.iloc[3]['TotalVolume']"
   ]
  },
  {
   "cell_type": "code",
   "execution_count": null,
   "metadata": {},
   "outputs": [],
   "source": [
    "# grab a specific column, e.g. Average price\n",
    "# notice the notation - we could also have written df.AveragePrice\n",
    "df['AveragePrice'].head()"
   ]
  },
  {
   "cell_type": "code",
   "execution_count": null,
   "metadata": {},
   "outputs": [],
   "source": [
    "# grab multiple columns, e.g. Date and AveragePrice\n",
    "df[['Date', 'AveragePrice']].head()"
   ]
  },
  {
   "cell_type": "code",
   "execution_count": null,
   "metadata": {},
   "outputs": [],
   "source": [
    "# Find the rows with the smallest sales volume, all columns\n",
    "df.nsmallest(5, columns='TotalVolume')"
   ]
  },
  {
   "cell_type": "code",
   "execution_count": null,
   "metadata": {
    "scrolled": true
   },
   "outputs": [],
   "source": [
    "# Find the rows with the largest sales volume, single column\n",
    "# notice df.TotalVolume could have been written as df['TotalVolume']\n",
    "df.TotalVolume.nlargest()"
   ]
  },
  {
   "cell_type": "markdown",
   "metadata": {},
   "source": [
    "## Filtering Data"
   ]
  },
  {
   "cell_type": "code",
   "execution_count": null,
   "metadata": {},
   "outputs": [],
   "source": [
    "# Get rows with a TotalVolume greater than 10M\n",
    "df[(df.TotalVolume > 10000000)].head()"
   ]
  },
  {
   "cell_type": "code",
   "execution_count": null,
   "metadata": {},
   "outputs": [],
   "source": [
    "# Get rows for California\n",
    "df[(df.region == 'California')].head()"
   ]
  },
  {
   "cell_type": "code",
   "execution_count": null,
   "metadata": {},
   "outputs": [],
   "source": [
    "# Get rows for California with TotalVolume greater than 10M\n",
    "df[(df.region == 'California') & (df.TotalVolume > 10000000)].head()"
   ]
  },
  {
   "cell_type": "code",
   "execution_count": null,
   "metadata": {},
   "outputs": [],
   "source": [
    "# get rows for Portland and Orlando (output both head and tail)\n",
    "df[df.region.isin(['Portland', 'Orlando'])].head()"
   ]
  },
  {
   "cell_type": "code",
   "execution_count": null,
   "metadata": {},
   "outputs": [],
   "source": [
    "# get rows with an AveragePrice < 0.5\n",
    "# select columns Date, AveragePrice, TotalVolume, region, type\n",
    "cols = ['Date', 'AveragePrice', 'TotalVolume', 'region', 'type']\n",
    "\n",
    "df.loc[df.AveragePrice < 0.5, cols].head()"
   ]
  },
  {
   "cell_type": "markdown",
   "metadata": {},
   "source": [
    "\n",
    "## Grouping and Aggregating Data"
   ]
  },
  {
   "cell_type": "markdown",
   "metadata": {},
   "source": [
    "### Research questions\n",
    "\n",
    "Answer the following questions, supported by data:\n",
    "  * What is the price difference between the different avocado types?\n",
    "  * What regions have the highest/lowest avocado prices?\n",
    "  * How does the price compare in regions with high vs low volume?\n",
    "  * How have avocado prices developed over time?\n",
    "  * What month is avocado peak season?"
   ]
  },
  {
   "cell_type": "code",
   "execution_count": null,
   "metadata": {},
   "outputs": [],
   "source": [
    "# group the dataset by year, and output the first row of each group\n",
    "df.groupby(by='year').first()"
   ]
  },
  {
   "cell_type": "code",
   "execution_count": null,
   "metadata": {},
   "outputs": [],
   "source": [
    "# get the data of a specific group\n",
    "df.groupby('region').get_group('Detroit').head()"
   ]
  },
  {
   "cell_type": "code",
   "execution_count": null,
   "metadata": {},
   "outputs": [],
   "source": [
    "# get average avocado prices, by type\n",
    "df.groupby(by='type').mean()"
   ]
  },
  {
   "cell_type": "code",
   "execution_count": null,
   "metadata": {},
   "outputs": [],
   "source": [
    "# get average avocado prices, by region and type\n",
    "df.groupby(by=['region', 'type']).mean().head(10)"
   ]
  },
  {
   "cell_type": "code",
   "execution_count": null,
   "metadata": {},
   "outputs": [],
   "source": [
    "# get averages for all numeric columns, by region\n",
    "df.groupby(by='region').mean().head()"
   ]
  },
  {
   "cell_type": "code",
   "execution_count": null,
   "metadata": {},
   "outputs": [],
   "source": [
    "# get the average avocado price by region, lowest 5 prices only\n",
    "df.groupby(by='region').mean().nsmallest(n=5, columns='AveragePrice')"
   ]
  },
  {
   "cell_type": "code",
   "execution_count": null,
   "metadata": {
    "scrolled": true
   },
   "outputs": [],
   "source": [
    "# get the average avocado price by region, highest 5 prices only\n",
    "df.groupby(by='region').mean().nlargest(n=5, columns='AveragePrice')"
   ]
  },
  {
   "cell_type": "code",
   "execution_count": null,
   "metadata": {
    "scrolled": false
   },
   "outputs": [],
   "source": [
    "# for all regions, get the min price, mean price, max price, and the sum of total volume and bags\n",
    "agg_funcs = {\n",
    "    'AveragePrice': ['min', 'mean', 'max'],\n",
    "    'TotalVolume': 'sum',\n",
    "    'TotalBags': 'sum'\n",
    "}\n",
    "df.groupby('region').agg(agg_funcs).head()"
   ]
  },
  {
   "cell_type": "code",
   "execution_count": null,
   "metadata": {},
   "outputs": [],
   "source": [
    "# get similar aggregates as above by region. But this time, get the 5 largest TotalVolume\n",
    "df.groupby('region').agg(agg_funcs).nlargest(5, columns=('TotalVolume', 'sum'))"
   ]
  },
  {
   "cell_type": "code",
   "execution_count": null,
   "metadata": {},
   "outputs": [],
   "source": [
    "# get similar aggregates as above by region. But this time, get the 5 smallest TotalVolume\n",
    "df.groupby('region').agg(agg_funcs).nsmallest(5, columns=('TotalVolume', 'sum'))"
   ]
  },
  {
   "cell_type": "code",
   "execution_count": null,
   "metadata": {
    "scrolled": true
   },
   "outputs": [],
   "source": [
    "# group the dataframe by Date, calculating the mean for each column\n",
    "# plot the dataframe. AveragePrice on the secondary y axis. add title, add grid, change figsize\n",
    "df.groupby(by=['Date']).mean().plot(secondary_y=['AveragePrice'],\n",
    "                                    title='Avocado Prices (2015-2018)',\n",
    "                                    figsize=(12,5),\n",
    "                                    grid=True)"
   ]
  },
  {
   "cell_type": "markdown",
   "metadata": {},
   "source": [
    "## Exercise"
   ]
  },
  {
   "cell_type": "markdown",
   "metadata": {},
   "source": [
    "Go ahead and load the tips dataset, do basic cleanups of columns, and then ask research questions such as:\n",
    "  * The tips are what percentage of total bills? (new column)\n",
    "  * What is the bill per person? Tips per person (new columns: divide total bill / tips by size)\n",
    "  * At what time are tips higher?\n",
    "  * What days of the week have higher spending in restaurants?\n",
    "  * Do female waitresses get higher tips?\n",
    "\n",
    "The dataset is available at:\n",
    "https://raw.github.com/pydata/pandas/master/pandas/tests/data/tips.csv\n",
    "\n",
    "To answer the questions, you need to aggregate data and output relevant tables.\n",
    "\n",
    "Discuss your solutions with the person next to you!"
   ]
  }
 ],
 "metadata": {
  "kernelspec": {
   "display_name": "Python 3",
   "language": "python",
   "name": "python3"
  },
  "language_info": {
   "codemirror_mode": {
    "name": "ipython",
    "version": 3
   },
   "file_extension": ".py",
   "mimetype": "text/x-python",
   "name": "python",
   "nbconvert_exporter": "python",
   "pygments_lexer": "ipython3",
   "version": "3.7.3"
  }
 },
 "nbformat": 4,
 "nbformat_minor": 2
}
