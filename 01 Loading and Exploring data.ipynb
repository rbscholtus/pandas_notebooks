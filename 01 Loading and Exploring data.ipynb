{
 "cells": [
  {
   "cell_type": "markdown",
   "metadata": {},
   "source": [
    "# Data Analysis with Python and Pandas Tutorial\n",
    "# Part 1: Loading and Exploring data"
   ]
  },
  {
   "cell_type": "markdown",
   "metadata": {},
   "source": [
    "## Tutorial Objectives\n",
    "\n",
    "In this tutorial, you will learn:\n",
    "\n",
    "* Create Pandas dataframes directly from JSON data\n",
    "* Create dataframes by loading data from CSV, Excel, and over the internet\n",
    "* Explore data using shape, columns, info and describe\n",
    "* Explore data by plotting plots"
   ]
  },
  {
   "cell_type": "markdown",
   "metadata": {},
   "source": [
    "## What is a DataFrame / Series?"
   ]
  },
  {
   "cell_type": "code",
   "execution_count": null,
   "metadata": {
    "scrolled": false
   },
   "outputs": [],
   "source": [
    "### Series and Dataframes in Pandas\n",
    "from IPython.display import Image\n",
    "from IPython.core.display import HTML\n",
    "Image(url='https://storage.googleapis.com/lds-media/images/series-and-dataframe.width-1200.png', width=600)"
   ]
  },
  {
   "cell_type": "markdown",
   "metadata": {},
   "source": [
    "## Common libraries"
   ]
  },
  {
   "cell_type": "code",
   "execution_count": null,
   "metadata": {},
   "outputs": [],
   "source": [
    "# import the Pandas library\n",
    "import pandas as pd"
   ]
  },
  {
   "cell_type": "markdown",
   "metadata": {},
   "source": [
    "## Creating a DateFrame (from JSON)"
   ]
  },
  {
   "cell_type": "code",
   "execution_count": null,
   "metadata": {},
   "outputs": [],
   "source": [
    "# create some data in JSON format\n",
    "weather_data = { \n",
    "  \"City\": [\"Cantho\", \"Danang\", \"Haiphong\", \"Hanoi\", \"Ho Chi Minh City\"],\n",
    "  \"Temperature\": [83, 64, 72, 81, 70],\n",
    "  \"Humidity\": [86, 65, 90, 75, 96]\n",
    "}"
   ]
  },
  {
   "cell_type": "code",
   "execution_count": null,
   "metadata": {},
   "outputs": [],
   "source": [
    "# create a Pandas dataframe from the JSON data\n",
    "df1 = pd.DataFrame(weather_data)"
   ]
  },
  {
   "cell_type": "code",
   "execution_count": null,
   "metadata": {},
   "outputs": [],
   "source": [
    "# output the dataframe\n",
    "df1"
   ]
  },
  {
   "cell_type": "code",
   "execution_count": null,
   "metadata": {},
   "outputs": [],
   "source": [
    "# output the shape of the dataframe\n",
    "df1.shape"
   ]
  },
  {
   "cell_type": "code",
   "execution_count": null,
   "metadata": {},
   "outputs": [],
   "source": [
    "# output the list of columns (Series)\n",
    "df1.columns"
   ]
  },
  {
   "cell_type": "code",
   "execution_count": null,
   "metadata": {},
   "outputs": [],
   "source": [
    "# output detailed dataframe info\n",
    "df1.info()"
   ]
  },
  {
   "cell_type": "code",
   "execution_count": null,
   "metadata": {
    "scrolled": false
   },
   "outputs": [],
   "source": [
    "# describe the values in the dataframe\n",
    "df1.describe()"
   ]
  },
  {
   "cell_type": "code",
   "execution_count": null,
   "metadata": {},
   "outputs": [],
   "source": [
    "# set the index to City\n",
    "# output it again to see the difference (look at the City column)\n",
    "df1.set_index(keys='City', inplace=True)\n",
    "df1"
   ]
  },
  {
   "cell_type": "code",
   "execution_count": null,
   "metadata": {
    "scrolled": true
   },
   "outputs": [],
   "source": [
    "# plot the dataframe, as a 'bar' or 'barh'\n",
    "df1.plot(kind='bar', figsize=(6, 3), title='Vietnam Major Cities Weather')"
   ]
  },
  {
   "cell_type": "code",
   "execution_count": null,
   "metadata": {},
   "outputs": [],
   "source": [
    "# save this dataset to disk in CSV format\n",
    "df1.to_csv('simple_weather.csv')"
   ]
  },
  {
   "cell_type": "markdown",
   "metadata": {},
   "source": [
    "## Reading Excel data into a DataFrame"
   ]
  },
  {
   "cell_type": "code",
   "execution_count": null,
   "metadata": {},
   "outputs": [],
   "source": [
    "# read an Excel file into a DataFrame (7dtd-weapons.xlsx, sheet name = \"All\")\n",
    "# this should be available at: https://1drv.ms/x/s!AgtH78k0_cuvgkgBijDifi1YkIck\n",
    "df2 = pd.read_excel('7dtd-weapons.xlsx', sheet_name='All')"
   ]
  },
  {
   "cell_type": "code",
   "execution_count": null,
   "metadata": {},
   "outputs": [],
   "source": [
    "# output the dataframe, but just a few (5) rows\n",
    "df2.head()"
   ]
  },
  {
   "cell_type": "code",
   "execution_count": null,
   "metadata": {},
   "outputs": [],
   "source": [
    "# output the shape of the dataframe\n",
    "df2.shape"
   ]
  },
  {
   "cell_type": "code",
   "execution_count": null,
   "metadata": {},
   "outputs": [],
   "source": [
    "# output dataframe info\n",
    "df2.info()"
   ]
  },
  {
   "cell_type": "code",
   "execution_count": null,
   "metadata": {},
   "outputs": [],
   "source": [
    "# potential issue: \"type\" is string - probably supposed to be categorical\n",
    "# convert column \"Category\" to a categorical series (an enumeration)\n",
    "# output info again to see the difference\n",
    "df2.Type = df2.Type.astype('category')"
   ]
  },
  {
   "cell_type": "code",
   "execution_count": null,
   "metadata": {},
   "outputs": [],
   "source": [
    "# potential issue: columns have spaces in them\n",
    "# rename columns \"Magazine Size\" to \"MagSize\"\n",
    "# output info again to see the difference\n",
    "df2.rename(columns={'Magazine Size': 'MagSize'}, inplace=True)"
   ]
  },
  {
   "cell_type": "code",
   "execution_count": null,
   "metadata": {},
   "outputs": [],
   "source": [
    "# change the index to column 'Firearm', inplace\n",
    "# output the head again to see the difference\n",
    "#df2.reset_index(inplace=True)  # reset_index restores the original numeric index\n",
    "df2.set_index(keys='Firearm', inplace=True)"
   ]
  },
  {
   "cell_type": "code",
   "execution_count": null,
   "metadata": {},
   "outputs": [],
   "source": [
    "# plot the head of the dataframe, with kind \"barh\"\n",
    "df2.head().plot(kind='barh', figsize=(12, 4), title='Firearms Overview')"
   ]
  },
  {
   "cell_type": "code",
   "execution_count": null,
   "metadata": {},
   "outputs": [],
   "source": [
    "# reset the index again\n",
    "df2.reset_index(inplace=True)"
   ]
  },
  {
   "cell_type": "markdown",
   "metadata": {},
   "source": [
    "## Reading CSV data (from a URL) into a DataFrame"
   ]
  },
  {
   "cell_type": "code",
   "execution_count": null,
   "metadata": {},
   "outputs": [],
   "source": [
    "url = 'https://raw.github.com/pydata/pandas/master/pandas/tests/data/tips.csv'"
   ]
  },
  {
   "cell_type": "code",
   "execution_count": null,
   "metadata": {},
   "outputs": [],
   "source": [
    "# read a CSV file into DataFrame df3\n",
    "df3 = pd.read_csv(url)"
   ]
  },
  {
   "cell_type": "code",
   "execution_count": null,
   "metadata": {},
   "outputs": [],
   "source": [
    "# output dataframe info\n",
    "df3.info()"
   ]
  },
  {
   "cell_type": "code",
   "execution_count": null,
   "metadata": {},
   "outputs": [],
   "source": [
    "# output a few rows (10)\n",
    "df3.head()"
   ]
  },
  {
   "cell_type": "code",
   "execution_count": null,
   "metadata": {},
   "outputs": [],
   "source": [
    "# take columns total_bill and tip and plot boxplot\n",
    "#df3.plot(kind='box', figsize=(5, 10), subplots=False, by='sex')\n",
    "df3.boxplot(column=['total_bill', 'tip'], by='sex', figsize=(8, 8))"
   ]
  },
  {
   "cell_type": "markdown",
   "metadata": {},
   "source": [
    "## Reading CSV data with a time series"
   ]
  },
  {
   "cell_type": "code",
   "execution_count": null,
   "metadata": {},
   "outputs": [],
   "source": [
    "oil_url = 'https://datahub.io/core/gold-prices/r/monthly.csv'"
   ]
  },
  {
   "cell_type": "code",
   "execution_count": null,
   "metadata": {},
   "outputs": [],
   "source": [
    "df4 = pd.read_csv(oil_url)\n",
    "df4.shape"
   ]
  },
  {
   "cell_type": "code",
   "execution_count": null,
   "metadata": {},
   "outputs": [],
   "source": [
    "df4.head()"
   ]
  },
  {
   "cell_type": "code",
   "execution_count": null,
   "metadata": {},
   "outputs": [],
   "source": [
    "df4.Date = df4.Date.astype('datetime64')"
   ]
  },
  {
   "cell_type": "code",
   "execution_count": null,
   "metadata": {},
   "outputs": [],
   "source": [
    "#df4.reset_index(inplace=True)  # reset the index back to the original numeric index\n",
    "df4.set_index('Date', inplace=True)"
   ]
  },
  {
   "cell_type": "code",
   "execution_count": null,
   "metadata": {},
   "outputs": [],
   "source": [
    "# output dataframe info, to verify the index is a Datetime index\n",
    "df4.info()"
   ]
  },
  {
   "cell_type": "code",
   "execution_count": null,
   "metadata": {},
   "outputs": [],
   "source": [
    "# plot the dataset\n",
    "df4.plot(figsize=(12,4), title='Gold Prices')"
   ]
  }
 ],
 "metadata": {
  "kernelspec": {
   "display_name": "Python 3",
   "language": "python",
   "name": "python3"
  },
  "language_info": {
   "codemirror_mode": {
    "name": "ipython",
    "version": 3
   },
   "file_extension": ".py",
   "mimetype": "text/x-python",
   "name": "python",
   "nbconvert_exporter": "python",
   "pygments_lexer": "ipython3",
   "version": "3.7.3"
  }
 },
 "nbformat": 4,
 "nbformat_minor": 2
}
